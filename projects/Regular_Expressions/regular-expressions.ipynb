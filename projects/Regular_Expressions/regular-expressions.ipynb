{
 "cells": [
  {
   "cell_type": "markdown",
   "id": "b3d37d43",
   "metadata": {},
   "source": [
    "- Regular expressions may be found one or multiple times in the beginning, at the end, or anywhere in the string, or it maybe exactly match the string.\n",
    "- To use regular expressions, we first need to import the `re` module.\n",
    "- We have several ways to import a module in python:\n",
    "  - `import re`\n",
    "  - `import re as <alias>`\n",
    "  - `from re import *`"
   ]
  },
  {
   "cell_type": "markdown",
   "id": "8d45e7a0",
   "metadata": {},
   "source": [
    "To represent `or`, we use `|` or `[]`as the following"
   ]
  },
  {
   "cell_type": "code",
   "execution_count": null,
   "id": "288e7898",
   "metadata": {},
   "outputs": [],
   "source": [
    "pattern1 = \"com|org\" # Matches either 'com' or 'org'\n",
    "pattern2 = \"[abcd]\" # Matches any single character 'a', 'b', 'c', or 'd'"
   ]
  },
  {
   "cell_type": "markdown",
   "id": "c4158fff",
   "metadata": {},
   "source": [
    "You can use `+` to represent that the pattern can be used multipe times."
   ]
  },
  {
   "cell_type": "code",
   "execution_count": null,
   "id": "7d198dcb",
   "metadata": {},
   "outputs": [],
   "source": [
    "pattern=\"[abc]+\" # Matches one or more occurrences of 'a', 'b', or 'c', such as \"a\", \"ab\", \"abc\", \"bca\", \"aaaa\", \"aabbbbbbbc\", etc."
   ]
  },
  {
   "cell_type": "markdown",
   "id": "41dfe4bc",
   "metadata": {},
   "source": [
    "We have several functions available in the `re` module:\n",
    "- `compile(pattern, flag=0)` used to compile regular expressions to use them multiple times.\n",
    "- Validation functions:\n",
    "  - `match(pattern, string, flag=0)` checks if the pattern exists at the beginning of the string.\n",
    "  - `fullmatch(pattern, string, flag=0)` checks whether or not the entire string matches the pattern.\n",
    "- Searching and Extraction functions:\n",
    "  - `search(pattern, string, flag=0)` searches for the pattern inside the string. Identifies the first match and ignores other occurrences.\n",
    "  - `findall(pattern, string, flag=0)` returns a list of all the matching substrings in the string.\n",
    "  - `split(pattern, string, flag=0)` splits the string based on the pattern."
   ]
  },
  {
   "cell_type": "code",
   "execution_count": 2,
   "id": "653b5f23",
   "metadata": {},
   "outputs": [
    {
     "data": {
      "text/plain": [
       "<re.Match object; span=(0, 3), match='abc'>"
      ]
     },
     "execution_count": 2,
     "metadata": {},
     "output_type": "execute_result"
    }
   ],
   "source": [
    "import re\n",
    "re.match('abc', 'abcdef')"
   ]
  },
  {
   "cell_type": "code",
   "execution_count": 3,
   "id": "60c19f00",
   "metadata": {},
   "outputs": [
    {
     "data": {
      "text/plain": [
       "<re.Match object; span=(0, 6), match='python'>"
      ]
     },
     "execution_count": 3,
     "metadata": {},
     "output_type": "execute_result"
    }
   ],
   "source": [
    "re.fullmatch('python', 'python')"
   ]
  },
  {
   "cell_type": "code",
   "execution_count": 4,
   "id": "bbc9a075",
   "metadata": {},
   "outputs": [
    {
     "data": {
      "text/plain": [
       "'python'"
      ]
     },
     "execution_count": 4,
     "metadata": {},
     "output_type": "execute_result"
    }
   ],
   "source": [
    "re.fullmatch('python', 'python').group() # Returns 'python' if the entire string matches the pattern, otherwise returns None"
   ]
  },
  {
   "cell_type": "code",
   "execution_count": 6,
   "id": "1e4faac6",
   "metadata": {},
   "outputs": [
    {
     "data": {
      "text/plain": [
       "(10, 14)"
      ]
     },
     "execution_count": 6,
     "metadata": {},
     "output_type": "execute_result"
    }
   ],
   "source": [
    "re.search('very', 'python is very easy').span() # Returns the start and end indices of the first occurrence of 'very' in the string"
   ]
  },
  {
   "cell_type": "code",
   "execution_count": 7,
   "id": "2ce09cbc",
   "metadata": {},
   "outputs": [
    {
     "data": {
      "text/plain": [
       "['can', 'can', 'can', 'can']"
      ]
     },
     "execution_count": 7,
     "metadata": {},
     "output_type": "execute_result"
    }
   ],
   "source": [
    "re.findall('can', 'can you can a can as a cancer') # Returns a list of all occurrences of 'can' in the string"
   ]
  }
 ],
 "metadata": {
  "kernelspec": {
   "display_name": "base",
   "language": "python",
   "name": "python3"
  },
  "language_info": {
   "codemirror_mode": {
    "name": "ipython",
    "version": 3
   },
   "file_extension": ".py",
   "mimetype": "text/x-python",
   "name": "python",
   "nbconvert_exporter": "python",
   "pygments_lexer": "ipython3",
   "version": "3.12.7"
  }
 },
 "nbformat": 4,
 "nbformat_minor": 5
}
