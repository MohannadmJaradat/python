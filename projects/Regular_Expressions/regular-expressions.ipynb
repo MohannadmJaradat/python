{
 "cells": [
  {
   "cell_type": "markdown",
   "id": "15b83d75",
   "metadata": {},
   "source": [
    "- Regular expressions may be found one or multiple times in the beginning, at the end, or anywhere in the string, or it maybe exactly match the string.\n",
    "- To use regular expressions, we first need to import the `re` module.\n",
    "- We have several ways to import a module in python:\n",
    "  - `import re`\n",
    "  - `import re as <alias>`\n",
    "  - `from re import *`"
   ]
  },
  {
   "cell_type": "markdown",
   "id": "eed97563",
   "metadata": {},
   "source": [
    "To represent `or`, we use `|` or `[]`as the following"
   ]
  },
  {
   "cell_type": "code",
   "execution_count": null,
   "id": "b4c076d0",
   "metadata": {},
   "outputs": [],
   "source": [
    "pattern1 = \"com|org\" # Matches either 'com' or 'org'\n",
    "pattern2 = \"[abcd]\" # Matches any single character 'a', 'b', 'c', or 'd'"
   ]
  },
  {
   "cell_type": "markdown",
   "id": "44ce5ca6",
   "metadata": {},
   "source": [
    "You can use `+` to represent that the pattern can be used multipe times."
   ]
  },
  {
   "cell_type": "code",
   "execution_count": null,
   "id": "8db22337",
   "metadata": {},
   "outputs": [],
   "source": [
    "pattern=\"[abc]+\" # Matches one or more occurrences of 'a', 'b', or 'c', such as \"a\", \"ab\", \"abc\", \"bca\", \"aaaa\", \"aabbbbbbbc\", etc."
   ]
  },
  {
   "cell_type": "markdown",
   "id": "64e2495c",
   "metadata": {},
   "source": [
    "We have several functions available in the `re` module:\n",
    "- `compile(pattern, flag=0)` used to compile regular expressions to use them multiple times.\n",
    "- Validation functions:\n",
    "  - `match(pattern, string, flag=0)` checks if the pattern exists at the beginning of the string.\n",
    "  - `fullmatch(pattern, string, flag=0)` checks whether or not the entire string matches the pattern.\n",
    "- Searching and Extraction functions:\n",
    "  - `search(pattern, string, flag=0)` searches for the pattern inside the string. Identifies the first match and ignores other occurrences.\n",
    "  - `findall(pattern, string, flag=0)` returns a list of all the matching substrings in the string.\n",
    "  - `split(pattern, string, flag=0)` splits the string based on the pattern."
   ]
  },
  {
   "cell_type": "code",
   "execution_count": null,
   "id": "6aff6980",
   "metadata": {},
   "outputs": [
    {
     "data": {
      "text/plain": [
       "<re.Match object; span=(0, 3), match='abc'>"
      ]
     },
     "metadata": {},
     "output_type": "display_data"
    }
   ],
   "source": [
    "import re\n",
    "re.match('abc', 'abcdef')"
   ]
  },
  {
   "cell_type": "code",
   "execution_count": null,
   "id": "f6036f88",
   "metadata": {},
   "outputs": [
    {
     "data": {
      "text/plain": [
       "<re.Match object; span=(0, 6), match='python'>"
      ]
     },
     "metadata": {},
     "output_type": "display_data"
    }
   ],
   "source": [
    "re.fullmatch('python', 'python')"
   ]
  },
  {
   "cell_type": "code",
   "execution_count": null,
   "id": "21ae8896",
   "metadata": {},
   "outputs": [
    {
     "data": {
      "text/plain": [
       "'python'"
      ]
     },
     "metadata": {},
     "output_type": "display_data"
    }
   ],
   "source": [
    "re.fullmatch('python', 'python').group() # Returns 'python' if the entire string matches the pattern, otherwise returns None"
   ]
  },
  {
   "cell_type": "code",
   "execution_count": null,
   "id": "beaa970f",
   "metadata": {},
   "outputs": [
    {
     "data": {
      "text/plain": [
       "(10, 14)"
      ]
     },
     "metadata": {},
     "output_type": "display_data"
    }
   ],
   "source": [
    "re.search('very', 'python is very easy').span() # Returns the start and end indices of the first occurrence of 'very' in the string"
   ]
  },
  {
   "cell_type": "code",
   "execution_count": null,
   "id": "877332de",
   "metadata": {},
   "outputs": [
    {
     "data": {
      "text/plain": [
       "['can', 'can', 'can', 'can']"
      ]
     },
     "metadata": {},
     "output_type": "display_data"
    }
   ],
   "source": [
    "re.findall('can', 'can you can a can as a cancer') # Returns a list of all occurrences of 'can' in the string"
   ]
  }
 ],
 "metadata": {
  "kernelspec": {
   "display_name": "base",
   "language": "python",
   "name": "python3"
  },
  "language_info": {
   "name": "python",
   "version": "3.12.7"
  }
 },
 "nbformat": 4,
 "nbformat_minor": 5
}
