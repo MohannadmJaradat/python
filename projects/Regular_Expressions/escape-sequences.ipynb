{
 "cells": [
  {
   "cell_type": "markdown",
   "id": "5d7d7805",
   "metadata": {},
   "source": [
    "We have several escape sequences:\n",
    "1. `\\d` represents onse single digit. [0-9]\n",
    "2. `\\D` represents non-digits. [a-zA-Z+-etc]\n",
    "3. `\\w` represents alphanumeric (alphabets as well as numbers) [a-zA-Z0-9]\n",
    "4. `\\W` represents non-alphanumeric (special characters only)\n",
    "5. `\\s` represens white space\n",
    "6. `\\s` represens non-white space\n",
    "7. `\\A` the pattern mentioned with this escape character must be matched at the beginning of the string. (same as ^).\n",
    "8. `\\Z` the pattern mentioned with this escape character must be matched at the end of the string. (same as $)."
   ]
  },
  {
   "cell_type": "code",
   "execution_count": null,
   "id": "1659c51d",
   "metadata": {},
   "outputs": [],
   "source": [
    "# Date in the format MM/DD/YYYY\n",
    "pattern1='\\d{2}/\\d{2}/\\d{4}' # The string should be in the format of MM/DD/YYYY, where MM is the month, DD is the day, and YYYY is the year."
   ]
  },
  {
   "cell_type": "code",
   "execution_count": null,
   "id": "b36fe690",
   "metadata": {},
   "outputs": [],
   "source": [
    "# password that contains at least one uppercase letter, one lowercase letter, one digit, and one special character, and minimum length of 8 characters\n",
    "pattern1='[\\w_]{8,}' # The string should contain at least one uppercase letter, one lowercase letter, one digit, and one special character, with a minimum length of 8 characters."
   ]
  },
  {
   "cell_type": "code",
   "execution_count": null,
   "id": "76e36244",
   "metadata": {},
   "outputs": [],
   "source": [
    "# email address that contains alphanumeric characters, underscores, and hyphens, followed by an '@' symbol, and a domain name with a top-level domain (TLD) of 2 to 6 characters\n",
    "pattern1='w+\\.?\\w+@\\w+\\.(com|org|net|edu|gov|mil|co|io)\\Z' # The string should contain alphanumeric characters, underscores, and hyphens, followed by an '@' symbol, and a domain name with a top-level domain (TLD) of 2 to 6 characters."
   ]
  }
 ],
 "metadata": {
  "kernelspec": {
   "display_name": "base",
   "language": "python",
   "name": "python3"
  },
  "language_info": {
   "codemirror_mode": {
    "name": "ipython",
    "version": 3
   },
   "file_extension": ".py",
   "mimetype": "text/x-python",
   "name": "python",
   "nbconvert_exporter": "python",
   "pygments_lexer": "ipython3",
   "version": "3.12.7"
  }
 },
 "nbformat": 4,
 "nbformat_minor": 5
}
