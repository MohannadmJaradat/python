{
 "cells": [
  {
   "cell_type": "markdown",
   "id": "b1a87d06",
   "metadata": {},
   "source": [
    "Quantifiers are the symbols used to define a pattern, then define how many times repitition can be done. There are several quantifiers that can be used:\n",
    "1. `+` means 1 or more.\n",
    "2. `*` means 0 or more.\n",
    "3. `?` means only 0 or 1 times.\n",
    "4. `{m}` means exactly m times.\n",
    "5. `{m,n}` from m to n times, where `m >= 0`, and n goes up to infinity."
   ]
  },
  {
   "cell_type": "code",
   "execution_count": null,
   "id": "56bd8fef",
   "metadata": {},
   "outputs": [],
   "source": [
    "pattern1='a+' # matches one or more 'a'\n",
    "pattern2='(ab)+' # matches one or more 'ab'\n",
    "pattern2='[abc]+' # matches one or more of 'a', 'b', or 'c'"
   ]
  },
  {
   "cell_type": "code",
   "execution_count": null,
   "id": "5343a76d",
   "metadata": {},
   "outputs": [],
   "source": [
    "pattern1='a*' # matches zero or more 'a'\n",
    "pattern2='(ab)*' # matches zero or more 'ab'\n",
    "pattern2='[abc]*' # matches zero or more of 'a', 'b', or 'c'"
   ]
  },
  {
   "cell_type": "code",
   "execution_count": null,
   "id": "8cccffe7",
   "metadata": {},
   "outputs": [],
   "source": [
    "pattern1='a?' # matches zero or one 'a'\n",
    "pattern2='(ab)?' # matches zero or one 'ab'\n",
    "pattern2='[abc]?' # matches zero or one of 'a', 'b', or 'c'"
   ]
  },
  {
   "cell_type": "code",
   "execution_count": null,
   "id": "20f8fc78",
   "metadata": {},
   "outputs": [],
   "source": [
    "pattern1='[eimt]{4}' # matches exactly 4 characters from the set {e, i, m, t}\n",
    "pattern2='[abc]{2,5}' # matches between 2 and 5 characters from the set {a, b, c}\n",
    "pattern3='[xyz]{0,}' # matches zero or more characters from the set {x, y, z}"
   ]
  },
  {
   "cell_type": "code",
   "execution_count": 2,
   "id": "62cd5e0e",
   "metadata": {},
   "outputs": [],
   "source": [
    "import re"
   ]
  },
  {
   "cell_type": "code",
   "execution_count": 3,
   "id": "5f406465",
   "metadata": {},
   "outputs": [
    {
     "data": {
      "text/plain": [
       "<re.Match object; span=(0, 2), match='ab'>"
      ]
     },
     "execution_count": 3,
     "metadata": {},
     "output_type": "execute_result"
    }
   ],
   "source": [
    "re.fullmatch('(ab)?', 'ab')  # Matches 'ab' exactly once"
   ]
  },
  {
   "cell_type": "code",
   "execution_count": 4,
   "id": "bfd43b90",
   "metadata": {},
   "outputs": [
    {
     "data": {
      "text/plain": [
       "<re.Match object; span=(0, 0), match=''>"
      ]
     },
     "execution_count": 4,
     "metadata": {},
     "output_type": "execute_result"
    }
   ],
   "source": [
    "re.fullmatch('(ab)?', '') # Matches an empty string, as 'ab' can appear zero times"
   ]
  },
  {
   "cell_type": "code",
   "execution_count": 5,
   "id": "f7c7bc76",
   "metadata": {},
   "outputs": [
    {
     "data": {
      "text/plain": [
       "<re.Match object; span=(0, 0), match=''>"
      ]
     },
     "execution_count": 5,
     "metadata": {},
     "output_type": "execute_result"
    }
   ],
   "source": [
    "re.fullmatch('(ab)*', '') # Matches an empty string, as 'ab' can appear zero times"
   ]
  },
  {
   "cell_type": "code",
   "execution_count": 6,
   "id": "881a7f1c",
   "metadata": {},
   "outputs": [
    {
     "data": {
      "text/plain": [
       "<re.Match object; span=(0, 12), match='abababababab'>"
      ]
     },
     "execution_count": 6,
     "metadata": {},
     "output_type": "execute_result"
    }
   ],
   "source": [
    "re.fullmatch('(ab)*', 'abababababab') # Matches 'abababababab', as 'ab' can appear multiple times"
   ]
  },
  {
   "cell_type": "code",
   "execution_count": 8,
   "id": "d948b449",
   "metadata": {},
   "outputs": [
    {
     "data": {
      "text/plain": [
       "['abc', 'bbca', 'cbac']"
      ]
     },
     "execution_count": 8,
     "metadata": {},
     "output_type": "execute_result"
    }
   ],
   "source": [
    "re.findall('[abc]+', '123 abc 987 bbca@cbac') # Matches 'abc', 'bbca', and 'cbac' in the string"
   ]
  }
 ],
 "metadata": {
  "kernelspec": {
   "display_name": "base",
   "language": "python",
   "name": "python3"
  },
  "language_info": {
   "codemirror_mode": {
    "name": "ipython",
    "version": 3
   },
   "file_extension": ".py",
   "mimetype": "text/x-python",
   "name": "python",
   "nbconvert_exporter": "python",
   "pygments_lexer": "ipython3",
   "version": "3.12.7"
  }
 },
 "nbformat": 4,
 "nbformat_minor": 5
}
