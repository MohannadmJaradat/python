{
 "cells": [
  {
   "cell_type": "markdown",
   "id": "8ceec409",
   "metadata": {},
   "source": [
    "Special characters in regular expressions are used to match specific types of characters or patterns.\n",
    "1. `[...]` Defines the set of characters that are allowed in a string.\n",
    "2. `[^...]` Exclues the characters defined between the square brackets.\n",
    "3. `.` Any character except newline.\n",
    "4. `^` The pattern you define using `^` should be matched with the beginning of a string.\n",
    "5. `$` The pattern you define using `$` should be matched with the end of a string.\n",
    "6. `R|S` The sting should match either pattern `R` or pattern `S`."
   ]
  },
  {
   "cell_type": "code",
   "execution_count": null,
   "id": "4cbeb1d7",
   "metadata": {},
   "outputs": [],
   "source": [
    "pattern1='[abc]' # The string can only have one of the characters 'a', 'b', or 'c'\n",
    "pattern2='[a-f]' # The string can only have one of the characters 'a', 'b', 'c', 'd', 'e', or 'f'\n",
    "pattern3='[a-zA-Z]' # The string can only have one of the characters 'a' to 'z' or 'A' to 'Z'\n",
    "pattern4='[a-zA-Z0-9]' # The string can have any single alphanumeric character.\n",
    "pattern5='[a-z]+' # The string can have one or more lowercase letters from 'a' to 'z', this represents any word from the dictionary in lower case.\n",
    "pattern6='[A-Z][a-z]+' # The string should start with an uppercase letter followed by one or more lowercase letters, this represents any word from the dictionary that starts with an uppercase letter."
   ]
  },
  {
   "cell_type": "code",
   "execution_count": null,
   "id": "ba99fd2d",
   "metadata": {},
   "outputs": [],
   "source": [
    "pattern1='[^a-z]+' # The string can have one or more characters that are not lowercase letters from 'a' to 'z'."
   ]
  },
  {
   "cell_type": "code",
   "execution_count": null,
   "id": "eee0fa27",
   "metadata": {},
   "outputs": [],
   "source": [
    "pattern1='.' # Any character except newline. Only one single character is allowed.\n",
    "pattern2='.+' # One or more characters except newline. This represents any string that has at least one character. Inludes upper case, lower case, digits, and special characters.\n",
    "pattern3='\\.+' # One or more dots. This represents any string that has at least one dot (eg. '...')."
   ]
  },
  {
   "cell_type": "code",
   "execution_count": null,
   "id": "c7031f81",
   "metadata": {},
   "outputs": [],
   "source": [
    "pattern1='^http' # The string should start with 'http'.\n",
    "pattern2='^http.+' # The string should start with 'http' and can have one or more characters after it."
   ]
  },
  {
   "cell_type": "code",
   "execution_count": null,
   "id": "430f9f13",
   "metadata": {},
   "outputs": [],
   "source": [
    "pattern1='com$' # The string should end with 'com'.\n",
    "pattern2='.+com$' # The string should end with 'com' and can have one or more characters before it."
   ]
  },
  {
   "cell_type": "code",
   "execution_count": null,
   "id": "e232c1a0",
   "metadata": {},
   "outputs": [],
   "source": [
    "pattern1='com|org' # The string should contain either 'com' or 'org'."
   ]
  },
  {
   "cell_type": "code",
   "execution_count": null,
   "id": "32e736f3",
   "metadata": {},
   "outputs": [],
   "source": [
    "# Example: write a regular expression to match a string written in the form of first name and last name (eg. Abdul Bari).\n",
    "pattern1='[A-Z][a-z]+ [A-Z][a-z]+' # The string should start with an uppercase letter followed by one or more lowercase letters, then a space, and then another uppercase letter followed by one or more lowercase letters."
   ]
  },
  {
   "cell_type": "code",
   "execution_count": null,
   "id": "6ccd33b2",
   "metadata": {},
   "outputs": [],
   "source": [
    "# Example: Write a regular expression to validate a variable name, which should start with a letter (uppercase or lowercase) and can contain letters, digits, and underscores.\n",
    "pattern1='[A-Za-z_][A-Za-z0-9_]*' # The string should start with a letter (uppercase or lowercase) followed by zero or more letters, digits, or underscores."
   ]
  },
  {
   "cell_type": "code",
   "execution_count": null,
   "id": "3509ffc8",
   "metadata": {},
   "outputs": [],
   "source": [
    "# Example: Write a regular expression to match time (eg. 12:30).\n",
    "pattern1='[012][0-9]:[0-5][0-9]' # The string should start with a digit '0' or '1' or '2', followed by any digit, then a colon, and then two digits from '0' to '5' followed by any digit."
   ]
  },
  {
   "cell_type": "code",
   "execution_count": null,
   "id": "1a12cdf8",
   "metadata": {},
   "outputs": [],
   "source": [
    "# Example: write a regular expression to validate a domain name.\n",
    "pattern1='[A-Za-z-0-9]+\\.(com|org|net)$' # The string should start with one or more alphanumeric characters or hyphens, followed by a dot, and then end with either 'com', 'org', or 'net'."
   ]
  }
 ],
 "metadata": {
  "kernelspec": {
   "display_name": "base",
   "language": "python",
   "name": "python3"
  },
  "language_info": {
   "codemirror_mode": {
    "name": "ipython",
    "version": 3
   },
   "file_extension": ".py",
   "mimetype": "text/x-python",
   "name": "python",
   "nbconvert_exporter": "python",
   "pygments_lexer": "ipython3",
   "version": "3.12.7"
  }
 },
 "nbformat": 4,
 "nbformat_minor": 5
}
