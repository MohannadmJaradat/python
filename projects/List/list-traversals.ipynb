{
 "cells": [
  {
   "cell_type": "markdown",
   "id": "dfd932d6",
   "metadata": {},
   "source": [
    "We can traverse through a list using three methods:\n",
    "1. for loop\n",
    "2. for loop using `range`\n",
    "3. while loop"
   ]
  },
  {
   "cell_type": "code",
   "execution_count": 2,
   "id": "3170daf4",
   "metadata": {},
   "outputs": [
    {
     "name": "stdout",
     "output_type": "stream",
     "text": [
      "1\n",
      "2\n",
      "3\n",
      "4\n",
      "5\n",
      "6\n"
     ]
    }
   ],
   "source": [
    "l1 = [1,2,3,4,5,6]\n",
    "for i in l1:\n",
    "    print(i)"
   ]
  },
  {
   "cell_type": "code",
   "execution_count": 5,
   "id": "cc58514e",
   "metadata": {},
   "outputs": [
    {
     "name": "stdout",
     "output_type": "stream",
     "text": [
      "1\n",
      "2\n",
      "3\n",
      "4\n",
      "5\n",
      "6\n"
     ]
    }
   ],
   "source": [
    "l1 = [1,2,3,4,5,6]\n",
    "for i in range(len(l1)):\n",
    "    print(l1[i])"
   ]
  },
  {
   "cell_type": "code",
   "execution_count": 7,
   "id": "fdd93c0e",
   "metadata": {},
   "outputs": [
    {
     "name": "stdout",
     "output_type": "stream",
     "text": [
      "1\n",
      "2\n",
      "3\n",
      "4\n",
      "5\n",
      "6\n"
     ]
    }
   ],
   "source": [
    "l1 = [1,2,3,4,5,6]\n",
    "i=0\n",
    "while i< len(l1):\n",
    "    print(l1[i])\n",
    "    i+=1"
   ]
  }
 ],
 "metadata": {
  "kernelspec": {
   "display_name": "base",
   "language": "python",
   "name": "python3"
  },
  "language_info": {
   "codemirror_mode": {
    "name": "ipython",
    "version": 3
   },
   "file_extension": ".py",
   "mimetype": "text/x-python",
   "name": "python",
   "nbconvert_exporter": "python",
   "pygments_lexer": "ipython3",
   "version": "3.12.7"
  }
 },
 "nbformat": 4,
 "nbformat_minor": 5
}
