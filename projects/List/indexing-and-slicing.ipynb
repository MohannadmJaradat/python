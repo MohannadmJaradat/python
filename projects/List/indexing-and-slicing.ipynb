{
 "cells": [
  {
   "cell_type": "markdown",
   "id": "d43a66ff",
   "metadata": {},
   "source": [
    "If you insert an element (or multiple elements) to the list using the following syntax, the elements will be shifted in order to allow the new element to be added, no elements will be replaced by the new one."
   ]
  },
  {
   "cell_type": "code",
   "execution_count": 11,
   "id": "adc098e9",
   "metadata": {},
   "outputs": [
    {
     "name": "stdout",
     "output_type": "stream",
     "text": [
      "[1, 2, 200, 3, 4, 5]\n",
      "[1, 2, 200, 3, 300, 400, 4, 5]\n"
     ]
    }
   ],
   "source": [
    "l1 = [1,2,3,4,5]\n",
    "l1[2:2]=[200]\n",
    "print(l1)\n",
    "l1[4:4]=[300,400]\n",
    "print(l1)"
   ]
  },
  {
   "cell_type": "markdown",
   "id": "c15f8588",
   "metadata": {},
   "source": [
    "If you want to add a new item at the end of the list, you can add it to any index that is equal to or larger than the length of the list"
   ]
  },
  {
   "cell_type": "code",
   "execution_count": 10,
   "id": "f0fe450a",
   "metadata": {},
   "outputs": [
    {
     "name": "stdout",
     "output_type": "stream",
     "text": [
      "[1, 2, 3, 4, 5, 200]\n",
      "[1, 2, 3, 4, 5, 200, 100]\n"
     ]
    }
   ],
   "source": [
    "l1 = [1,2,3,4,5]\n",
    "l1[5:5]=[200]\n",
    "print(l1)\n",
    "l1[100:100]=[100]\n",
    "print(l1)"
   ]
  },
  {
   "cell_type": "markdown",
   "id": "79e02b75",
   "metadata": {},
   "source": [
    "If you sepcify the step `ie. [start,stop,step]`, you must give the exact number of elements."
   ]
  },
  {
   "cell_type": "code",
   "execution_count": 12,
   "id": "9f89e213",
   "metadata": {},
   "outputs": [
    {
     "name": "stdout",
     "output_type": "stream",
     "text": [
      "[200, 2, 300, 4, 400]\n"
     ]
    }
   ],
   "source": [
    "l1=[1,2,3,4,5]\n",
    "l1[::2]=[200,300,400]\n",
    "print(l1)"
   ]
  }
 ],
 "metadata": {
  "kernelspec": {
   "display_name": "base",
   "language": "python",
   "name": "python3"
  },
  "language_info": {
   "codemirror_mode": {
    "name": "ipython",
    "version": 3
   },
   "file_extension": ".py",
   "mimetype": "text/x-python",
   "name": "python",
   "nbconvert_exporter": "python",
   "pygments_lexer": "ipython3",
   "version": "3.12.7"
  }
 },
 "nbformat": 4,
 "nbformat_minor": 5
}
