{
 "cells": [
  {
   "cell_type": "markdown",
   "id": "c39c0c73",
   "metadata": {},
   "source": [
    "ASCII code is for the English language, while Unicode is for all languages, to check out unicodes go to `unicode.org`. You can form string using unicode using the `\\u` escape character."
   ]
  },
  {
   "cell_type": "code",
   "execution_count": 4,
   "id": "702c5f48",
   "metadata": {},
   "outputs": [
    {
     "name": "stdout",
     "output_type": "stream",
     "text": [
      "Ω\n",
      "Ωβ\n"
     ]
    }
   ],
   "source": [
    "print (\"\\u03A9\")  # Output: 'Ω'\n",
    "print (\"\\u03A9\\u03B2\")  # Output: 'Ωβ'"
   ]
  },
  {
   "cell_type": "markdown",
   "id": "553c1641",
   "metadata": {},
   "source": [
    "You can also use the `\\u` escape character with ASCII codes (English language)."
   ]
  },
  {
   "cell_type": "code",
   "execution_count": 5,
   "id": "f9d48cb2",
   "metadata": {},
   "outputs": [
    {
     "name": "stdout",
     "output_type": "stream",
     "text": [
      "A\n",
      "1\n",
      "A1\n",
      "A1B\n"
     ]
    }
   ],
   "source": [
    "print (\"\\u0041\")  # Output: 'A'\n",
    "print (\"\\u0031\")  # Output: '1'\n",
    "print (\"\\u0041\\u0031\")  # Output: 'A1'\n",
    "print (\"\\u0041\\u0031\\u0042\")  # Output: 'A1B'"
   ]
  }
 ],
 "metadata": {
  "kernelspec": {
   "display_name": "base",
   "language": "python",
   "name": "python3"
  },
  "language_info": {
   "codemirror_mode": {
    "name": "ipython",
    "version": 3
   },
   "file_extension": ".py",
   "mimetype": "text/x-python",
   "name": "python",
   "nbconvert_exporter": "python",
   "pygments_lexer": "ipython3",
   "version": "3.12.7"
  }
 },
 "nbformat": 4,
 "nbformat_minor": 5
}
