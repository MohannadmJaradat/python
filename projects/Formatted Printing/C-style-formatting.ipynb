{
 "cells": [
  {
   "cell_type": "code",
   "execution_count": 6,
   "id": "5ca24435",
   "metadata": {},
   "outputs": [
    {
     "name": "stdout",
     "output_type": "stream",
     "text": [
      "The price of a 32 memory chip is $11.75.\n"
     ]
    }
   ],
   "source": [
    "item = 'memory'\n",
    "size = 32\n",
    "price = 11.75\n",
    "print(\"The price of a %d %s chip is $%.2f.\" % (size, item, price))"
   ]
  }
 ],
 "metadata": {
  "kernelspec": {
   "display_name": "base",
   "language": "python",
   "name": "python3"
  },
  "language_info": {
   "codemirror_mode": {
    "name": "ipython",
    "version": 3
   },
   "file_extension": ".py",
   "mimetype": "text/x-python",
   "name": "python",
   "nbconvert_exporter": "python",
   "pygments_lexer": "ipython3",
   "version": "3.12.7"
  }
 },
 "nbformat": 4,
 "nbformat_minor": 5
}
