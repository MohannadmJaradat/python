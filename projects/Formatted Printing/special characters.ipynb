{
 "cells": [
  {
   "cell_type": "markdown",
   "id": "0c013d98",
   "metadata": {},
   "source": [
    "Special characters (escape sequences) can be used for all programming languages. Use `\\` to use special characters. The following are the most commonly used escape characters:\n",
    "1. new line `\\n`"
   ]
  },
  {
   "cell_type": "code",
   "execution_count": 4,
   "id": "f04d8f66",
   "metadata": {},
   "outputs": [
    {
     "name": "stdout",
     "output_type": "stream",
     "text": [
      "Hello, my name is Mohannad.\n",
      "I am learning Python.\n"
     ]
    }
   ],
   "source": [
    "print (\"Hello, my name is Mohannad.\\nI am learning Python.\")"
   ]
  },
  {
   "cell_type": "markdown",
   "id": "36ce8ed4",
   "metadata": {},
   "source": [
    "2. Carriage return `\\r`; moves the cursor to the beginning of the same line and overwrites whatever was written."
   ]
  },
  {
   "cell_type": "code",
   "execution_count": 9,
   "id": "4082e340",
   "metadata": {},
   "outputs": [
    {
     "name": "stdout",
     "output_type": "stream",
     "text": [
      "solid\n"
     ]
    }
   ],
   "source": [
    "print(\"valid\\rso\")"
   ]
  },
  {
   "cell_type": "markdown",
   "id": "556793e4",
   "metadata": {},
   "source": [
    "3. tab `\\t`."
   ]
  },
  {
   "cell_type": "code",
   "execution_count": 20,
   "id": "8d82333f",
   "metadata": {},
   "outputs": [
    {
     "name": "stdout",
     "output_type": "stream",
     "text": [
      "Hello\tworld\n"
     ]
    }
   ],
   "source": [
    "print(\"Hello\\tworld\")"
   ]
  }
 ],
 "metadata": {
  "kernelspec": {
   "display_name": "base",
   "language": "python",
   "name": "python3"
  },
  "language_info": {
   "codemirror_mode": {
    "name": "ipython",
    "version": 3
   },
   "file_extension": ".py",
   "mimetype": "text/x-python",
   "name": "python",
   "nbconvert_exporter": "python",
   "pygments_lexer": "ipython3",
   "version": "3.12.7"
  }
 },
 "nbformat": 4,
 "nbformat_minor": 5
}
