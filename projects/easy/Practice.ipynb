{
 "cells": [
  {
   "cell_type": "code",
   "execution_count": 1,
   "id": "6f052fd0-f38b-4ab4-9c19-5c0fd1b99ade",
   "metadata": {},
   "outputs": [
    {
     "name": "stdout",
     "output_type": "stream",
     "text": [
      "hello\n"
     ]
    }
   ],
   "source": [
    "print (\"hello\")"
   ]
  },
  {
   "cell_type": "code",
   "execution_count": 3,
   "id": "56933382-7155-4749-bae3-6d9085789d93",
   "metadata": {},
   "outputs": [
    {
     "name": "stdout",
     "output_type": "stream",
     "text": [
      "30\n"
     ]
    }
   ],
   "source": [
    "print (12 + 18)"
   ]
  },
  {
   "cell_type": "code",
   "execution_count": 5,
   "id": "8765b833-ed7b-4256-abd1-e6eeb07165a8",
   "metadata": {},
   "outputs": [
    {
     "name": "stdout",
     "output_type": "stream",
     "text": [
      "50\n"
     ]
    }
   ],
   "source": [
    "x = 10\n",
    "y = 40\n",
    "z = x + y\n",
    "print (z)"
   ]
  },
  {
   "cell_type": "code",
   "execution_count": 9,
   "id": "c8477066-06bb-46a7-9c26-d67daadd49ac",
   "metadata": {},
   "outputs": [
    {
     "name": "stdin",
     "output_type": "stream",
     "text": [
      "enter length:  5\n",
      "enter width:  5\n"
     ]
    },
    {
     "name": "stdout",
     "output_type": "stream",
     "text": [
      "the area of the rectangle is:  25\n"
     ]
    }
   ],
   "source": [
    "length = input (\"enter length: \")\n",
    "width = input (\"enter width: \")\n",
    "area = int(length)*int(width)\n",
    "print (\"the area of the rectangle is: \", area)"
   ]
  },
  {
   "cell_type": "code",
   "execution_count": 11,
   "id": "44185d6f-b094-484c-8d75-80cef9bc2b2b",
   "metadata": {},
   "outputs": [
    {
     "name": "stdout",
     "output_type": "stream",
     "text": [
      "1 1 1\n",
      "5 1 1\n"
     ]
    }
   ],
   "source": [
    "a,b,c=1,1,1\n",
    "print (a,b,c)\n",
    "a=5\n",
    "print (a,b,c)"
   ]
  },
  {
   "cell_type": "code",
   "execution_count": 15,
   "id": "cd8fdd5a-0654-4776-b65f-d50ef07234a7",
   "metadata": {},
   "outputs": [
    {
     "name": "stdout",
     "output_type": "stream",
     "text": [
      "<class 'int'>\n",
      "<class 'str'>\n"
     ]
    }
   ],
   "source": [
    "a = 15\n",
    "print (type(a))\n",
    "a = '15'\n",
    "print (type(a))"
   ]
  },
  {
   "cell_type": "code",
   "execution_count": 17,
   "id": "2c45c008-9cdf-422e-a8c2-3d37f25ac61a",
   "metadata": {},
   "outputs": [
    {
     "name": "stdout",
     "output_type": "stream",
     "text": [
      "[1, 2, 3, 4, 'a', 'b', 'c', 'd']\n"
     ]
    }
   ],
   "source": [
    "List = [1,2,3,4,'a','b','c','d']\n",
    "print (List)"
   ]
  },
  {
   "cell_type": "code",
   "execution_count": 19,
   "id": "00a71a6b-c17f-4219-8bf8-f55cbe974737",
   "metadata": {},
   "outputs": [
    {
     "name": "stdout",
     "output_type": "stream",
     "text": [
      "(1, 2, 3, 4, 'a', 'b', 'c', 'd')\n"
     ]
    }
   ],
   "source": [
    "Tuple = (1,2,3,4,'a','b','c','d')\n",
    "print (Tuple)"
   ]
  },
  {
   "cell_type": "code",
   "execution_count": 25,
   "id": "64f83644-deae-4d21-a440-1e0a70eaca14",
   "metadata": {},
   "outputs": [
    {
     "name": "stdout",
     "output_type": "stream",
     "text": [
      "{1, 2, 3, 4, 'a', 'd', 'b', 'c'}\n"
     ]
    }
   ],
   "source": [
    "Set = {1,2,3,4,'a','b','d','c'}\n",
    "print (Set)"
   ]
  },
  {
   "cell_type": "code",
   "execution_count": 27,
   "id": "c77bf938-3c14-4436-9ce3-0ba37d75b0fd",
   "metadata": {},
   "outputs": [
    {
     "name": "stdout",
     "output_type": "stream",
     "text": [
      "{1, 2, 3, 4, 20, 12}\n"
     ]
    }
   ],
   "source": [
    "Set = {1,2,3,4,3,3,20,12}\n",
    "print (Set)"
   ]
  },
  {
   "cell_type": "code",
   "execution_count": 37,
   "id": "4e72eaad-b61d-4760-aab5-bbce6094fd03",
   "metadata": {},
   "outputs": [
    {
     "name": "stdout",
     "output_type": "stream",
     "text": [
      "{'name': 'Mohannad', 'age': 22, 'employed': True}\n"
     ]
    }
   ],
   "source": [
    "Dictionary = {\"name\":\"Mohannad\", \"age\":22, \"employed\":True}\n",
    "print (Dictionary)"
   ]
  },
  {
   "cell_type": "code",
   "execution_count": 39,
   "id": "d878a86a-d734-4d1e-b9b1-4ffa2f89bf19",
   "metadata": {},
   "outputs": [
    {
     "name": "stdout",
     "output_type": "stream",
     "text": [
      "1947644224464\n"
     ]
    }
   ],
   "source": [
    "print (id(a))"
   ]
  },
  {
   "cell_type": "code",
   "execution_count": 41,
   "id": "3f409d0d-fe93-4435-927e-d802ccecd1a4",
   "metadata": {},
   "outputs": [
    {
     "name": "stdout",
     "output_type": "stream",
     "text": [
      "140709512991200\n"
     ]
    }
   ],
   "source": [
    "a= \"hi\"\n",
    "print(id(a))"
   ]
  },
  {
   "cell_type": "code",
   "execution_count": 43,
   "id": "b32b269b-9108-4d2b-bde7-d273ff4d7517",
   "metadata": {},
   "outputs": [
    {
     "name": "stdout",
     "output_type": "stream",
     "text": [
      "'mohannad' \"mohannad\"\n"
     ]
    }
   ],
   "source": [
    "test1 = \"'mohannad'\"\n",
    "test2 = '\"mohannad\"'\n",
    "print (test1,test2)"
   ]
  },
  {
   "cell_type": "code",
   "execution_count": null,
   "id": "7b6ada08-f95e-47a4-9b58-f80d6c3ce678",
   "metadata": {},
   "outputs": [],
   "source": []
  }
 ],
 "metadata": {
  "kernelspec": {
   "display_name": "Python [conda env:base] *",
   "language": "python",
   "name": "conda-base-py"
  },
  "language_info": {
   "codemirror_mode": {
    "name": "ipython",
    "version": 3
   },
   "file_extension": ".py",
   "mimetype": "text/x-python",
   "name": "python",
   "nbconvert_exporter": "python",
   "pygments_lexer": "ipython3",
   "version": "3.12.7"
  }
 },
 "nbformat": 4,
 "nbformat_minor": 5
}
